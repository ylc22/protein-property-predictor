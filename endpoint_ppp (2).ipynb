{
  "nbformat": 4,
  "nbformat_minor": 0,
  "metadata": {
    "colab": {
      "provenance": []
    },
    "kernelspec": {
      "name": "python3",
      "display_name": "Python 3"
    },
    "language_info": {
      "name": "python"
    }
  },
  "cells": [
    {
      "cell_type": "code",
      "execution_count": 1,
      "metadata": {
        "colab": {
          "base_uri": "https://localhost:8080/"
        },
        "id": "vVo3YoBJZ_U1",
        "outputId": "7bd78df5-5994-45fa-a8e7-2c657cd2fe29"
      },
      "outputs": [
        {
          "output_type": "stream",
          "name": "stdout",
          "text": [
            "Status code: 200\n",
            "{\n",
            "  \"model_time_in_ms\": 0,\n",
            "  \"release\": {\n",
            "    \"harness_version\": \"0.1\",\n",
            "    \"model_version\": \"68ee76b171272370dfa4a198\",\n",
            "    \"model_version_number\": 6\n",
            "  },\n",
            "  \"request_id\": \"SCNAUZERG7QJOX9H\",\n",
            "  \"result\": {\n",
            "    \"result\": {\n",
            "      \"confidence\": 0.632,\n",
            "      \"features\": {\n",
            "        \"hydrophobic_fraction\": 0.84,\n",
            "        \"length\": 25,\n",
            "        \"nterm_hydrophobic_fraction\": 0.9\n",
            "      },\n",
            "      \"mode\": \"auto\",\n",
            "      \"prediction\": \"membrane-bound\"\n",
            "    }\n",
            "  },\n",
            "  \"timing\": 0.3147125244140625\n",
            "}\n"
          ]
        }
      ],
      "source": [
        "# --- Install dependencies ---\n",
        "!pip install requests -q\n",
        "\n",
        "# --- Imports ---\n",
        "import requests\n",
        "import json\n",
        "\n",
        "# --- Domino endpoint URL ---\n",
        "ENDPOINT_URL = \"https://lifesciences-demo.domino-eval.com:443/models/68ee6d142b78a861aabdc563/latest/model\"\n",
        "\n",
        "# --- Input payload ---\n",
        "payload = {\n",
        "    \"data\": {\n",
        "        \"sequence\": \"MKKLLLLLLLLLALALALAAAGAGA\",\n",
        "        \"mode\": \"auto\"\n",
        "    }\n",
        "}\n",
        "\n",
        "# --- Send POST request ---\n",
        "response = requests.post(ENDPOINT_URL, json=payload)\n",
        "\n",
        "# --- Display results ---\n",
        "print(\"Status code:\", response.status_code)\n",
        "try:\n",
        "    result = response.json()\n",
        "    print(json.dumps(result, indent=2))\n",
        "except Exception:\n",
        "    print(\"Raw response:\")\n",
        "    print(response.text)\n",
        "\n"
      ]
    }
  ]
}